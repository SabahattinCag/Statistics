{
 "cells": [
  {
   "cell_type": "markdown",
   "id": "c00f6538",
   "metadata": {},
   "source": [
    "# Statistics Assignment-2 (CIs & Hypothesis)"
   ]
  },
  {
   "cell_type": "markdown",
   "id": "c18efeac",
   "metadata": {},
   "source": [
    "## CONFIDENCE INTERVALS"
   ]
  },
  {
   "cell_type": "markdown",
   "id": "adbefdfa",
   "metadata": {},
   "source": [
    "**EXERCISE 1.** What is the normal body temperature for healthy humans? A random sample of 130 healthy human body temperatures provided by Allen Shoemaker yielded 98.25 degrees and standard deviation 0.73 degrees. \n",
    "\n",
    "Give a 99% confidence interval for the average body temperature of healthy people."
   ]
  },
  {
   "cell_type": "raw",
   "id": "e0c327e4",
   "metadata": {},
   "source": [
    "**Solution:**\n",
    "\n",
    "Confidence Interval = (sample_mean - margin_of_error, sample_mean + margin_of_error)\n",
    "\n",
    "margin_of_error is the critical value ((t-score or )z-score for a 99% confidence interval) multiplied by the standard error.\n",
    "\n",
    "Standard Error = population_std_dev / sqrt(sample_size)\n"
   ]
  },
  {
   "cell_type": "code",
   "execution_count": 1,
   "id": "429dac8b",
   "metadata": {},
   "outputs": [],
   "source": [
    "import pandas as pd\n",
    "import numpy as np\n",
    "import seaborn as sns\n",
    "import matplotlib.pyplot as plt\n",
    "from scipy import stats\n",
    "from math import sqrt"
   ]
  },
  {
   "cell_type": "code",
   "execution_count": 2,
   "id": "d404c9df",
   "metadata": {
    "scrolled": true
   },
   "outputs": [
    {
     "name": "stdout",
     "output_type": "stream",
     "text": [
      "2.3556022904503915\n",
      "99% Confidence Interval:\n",
      "Lower Bound: 96.08260738705933\n",
      "Upper Bound: 96.41739261294067\n"
     ]
    }
   ],
   "source": [
    "mu = 96.8  # population mean\n",
    "n = 130  # sample size\n",
    "x_bar = 96.25  # sample mean\n",
    "s = 0.73  # standard deviation of the sample\n",
    "con_level = 0.99  # confidence interval level\n",
    "\n",
    "se = s / sqrt(n)  # standart error\n",
    "degrees_of_freedom = n-1 \n",
    "\n",
    "t_int= stats.t.interval(con_level, df=degrees_of_freedom, loc=x_bar, scale = se)\n",
    "\n",
    "print(stats.t.ppf(q=0.99,df=129))\n",
    "\n",
    "print(\"99% Confidence Interval:\")\n",
    "print(\"Lower Bound:\", t_int[0])\n",
    "print(\"Upper Bound:\", t_int[1])\n"
   ]
  },
  {
   "cell_type": "code",
   "execution_count": 3,
   "id": "ae8dcbee",
   "metadata": {},
   "outputs": [
    {
     "data": {
      "text/plain": [
       "(96.08260738705933, 96.41739261294067)"
      ]
     },
     "execution_count": 3,
     "metadata": {},
     "output_type": "execute_result"
    }
   ],
   "source": [
    "t_int"
   ]
  },
  {
   "cell_type": "markdown",
   "id": "afe8495f",
   "metadata": {},
   "source": [
    "**EXERCISE 2.** The administrators for a hospital wished to estimate the average number of days required for inpatient treatment of patients between the ages of 25 and 34. A random sample of 500 hospital patients between these ages produced a mean and standard deviation equal to 5.4 and 3.1 days, respectively.\n",
    "\n",
    "\n",
    "Construct a 95% confidence interval for the mean length of stay for the population of patients from which the sample was drawn."
   ]
  },
  {
   "cell_type": "code",
   "execution_count": 4,
   "id": "7fd218c9",
   "metadata": {},
   "outputs": [
    {
     "data": {
      "text/plain": [
       "(5.127617354510309, 5.672382645489692)"
      ]
     },
     "execution_count": 4,
     "metadata": {},
     "output_type": "execute_result"
    }
   ],
   "source": [
    "n = 500  # sample size\n",
    "x_bar = 5.4  # sample mean\n",
    "s = 3.1  # standard deviation of the sample\n",
    "\n",
    "se = s / sqrt(n)  # standart error\n",
    "\n",
    "stats.t.interval(0.95, df=500-1, loc=x_bar, scale=se)"
   ]
  },
  {
   "cell_type": "markdown",
   "id": "9d85a3e3",
   "metadata": {},
   "source": [
    "## HYPOTHESIS TESTING"
   ]
  },
  {
   "cell_type": "markdown",
   "id": "d29601ca",
   "metadata": {},
   "source": [
    "**EXERCISE 3.** The hourly wages in a particular industry are normally distributed with mean \\\\$13.20 and standard deviation \\\\$2.50. A company in this industry employs 40 workers, paying them an average of \\\\$12.20 per hour. Can this company be accused of paying substandard wages? Use an α = .01 level test. (Wackerly, Ex.10.18)\n",
    "\n",
    "CHECK: statistic: -2.5298221281347035, pvalue= 0.005706018193000826"
   ]
  },
  {
   "cell_type": "raw",
   "id": "e7626078",
   "metadata": {},
   "source": [
    "**SOLUTION**:\n",
    "The null hypothesis is that the company is not paying substandard wages, or that the mean hourly wage of the company is equal to the population mean hourly wage of $13.20. The alternative hypothesis is that the company is paying substandard wages, or that the mean hourly wage of the company is less than $13.20."
   ]
  },
  {
   "cell_type": "code",
   "execution_count": 5,
   "id": "092a5aa0",
   "metadata": {},
   "outputs": [],
   "source": [
    "mu = 13.20  # population average\n",
    "sigma = 2.50  # sd of the population\n",
    "x_bar = 12.20 # sample mean\n",
    "n = 40 # number of workers\n",
    "alpha = 0.01"
   ]
  },
  {
   "cell_type": "code",
   "execution_count": 6,
   "id": "5d311a19",
   "metadata": {
    "scrolled": true
   },
   "outputs": [
    {
     "data": {
      "text/plain": [
       "0.3952847075210474"
      ]
     },
     "execution_count": 6,
     "metadata": {},
     "output_type": "execute_result"
    }
   ],
   "source": [
    "se = sigma / sqrt(n)  # standart error\n",
    "se"
   ]
  },
  {
   "cell_type": "code",
   "execution_count": 7,
   "id": "53387bd9",
   "metadata": {
    "scrolled": true
   },
   "outputs": [
    {
     "data": {
      "text/plain": [
       "-2.5298221281347035"
      ]
     },
     "execution_count": 7,
     "metadata": {},
     "output_type": "execute_result"
    }
   ],
   "source": [
    "z = (x_bar - mu) / se\n",
    "z"
   ]
  },
  {
   "cell_type": "code",
   "execution_count": 8,
   "id": "ed178d69",
   "metadata": {},
   "outputs": [
    {
     "data": {
      "text/plain": [
       "0.005706018193000824"
      ]
     },
     "execution_count": 8,
     "metadata": {},
     "output_type": "execute_result"
    }
   ],
   "source": [
    "p_value = stats.norm.cdf(z)\n",
    "p_value"
   ]
  },
  {
   "cell_type": "code",
   "execution_count": 9,
   "id": "9793d652",
   "metadata": {},
   "outputs": [
    {
     "name": "stdout",
     "output_type": "stream",
     "text": [
      "At 0.01 level of significance, we can reject the null hypothesis in favor of alternative hypothesis.\n"
     ]
    }
   ],
   "source": [
    "if p_value<alpha:\n",
    "    print('At {} level of significance, we can reject the null hypothesis in favor of alternative hypothesis.'.format(alpha))\n",
    "else:\n",
    "    print('At {} level of significance, we fail to reject the null hypothesis.'.format(alpha))"
   ]
  },
  {
   "cell_type": "markdown",
   "id": "b80b7dae",
   "metadata": {},
   "source": [
    "**EXERCISE 4.** Shear strength measurements derived from unconfined compression tests for two types of soils gave the results shown in the following document (measurements in tons per square foot). Do the soils appear to differ with respect to average shear strength, at the 1% significance level?\n",
    "\n",
    "Results for two type of soils\n",
    "\n",
    "CHECK: statistic: 5.1681473319343345, pvalue= 2.593228732352821e-06"
   ]
  },
  {
   "cell_type": "code",
   "execution_count": 10,
   "id": "3e7e79fc",
   "metadata": {
    "scrolled": true
   },
   "outputs": [
    {
     "data": {
      "text/html": [
       "<div>\n",
       "<style scoped>\n",
       "    .dataframe tbody tr th:only-of-type {\n",
       "        vertical-align: middle;\n",
       "    }\n",
       "\n",
       "    .dataframe tbody tr th {\n",
       "        vertical-align: top;\n",
       "    }\n",
       "\n",
       "    .dataframe thead th {\n",
       "        text-align: right;\n",
       "    }\n",
       "</style>\n",
       "<table border=\"1\" class=\"dataframe\">\n",
       "  <thead>\n",
       "    <tr style=\"text-align: right;\">\n",
       "      <th></th>\n",
       "      <th>Soil1</th>\n",
       "      <th>Soil2</th>\n",
       "    </tr>\n",
       "  </thead>\n",
       "  <tbody>\n",
       "    <tr>\n",
       "      <th>0</th>\n",
       "      <td>1.442</td>\n",
       "      <td>1.364</td>\n",
       "    </tr>\n",
       "    <tr>\n",
       "      <th>1</th>\n",
       "      <td>1.943</td>\n",
       "      <td>1.878</td>\n",
       "    </tr>\n",
       "    <tr>\n",
       "      <th>2</th>\n",
       "      <td>1.110</td>\n",
       "      <td>1.337</td>\n",
       "    </tr>\n",
       "    <tr>\n",
       "      <th>3</th>\n",
       "      <td>1.912</td>\n",
       "      <td>1.828</td>\n",
       "    </tr>\n",
       "    <tr>\n",
       "      <th>4</th>\n",
       "      <td>1.553</td>\n",
       "      <td>1.371</td>\n",
       "    </tr>\n",
       "  </tbody>\n",
       "</table>\n",
       "</div>"
      ],
      "text/plain": [
       "   Soil1  Soil2\n",
       "0  1.442  1.364\n",
       "1  1.943  1.878\n",
       "2  1.110  1.337\n",
       "3  1.912  1.828\n",
       "4  1.553  1.371"
      ]
     },
     "execution_count": 10,
     "metadata": {},
     "output_type": "execute_result"
    }
   ],
   "source": [
    "soil = pd.read_csv('soil.csv')\n",
    "soil.head()"
   ]
  },
  {
   "cell_type": "code",
   "execution_count": 11,
   "id": "761ea634",
   "metadata": {
    "scrolled": true
   },
   "outputs": [
    {
     "name": "stdout",
     "output_type": "stream",
     "text": [
      "<class 'pandas.core.frame.DataFrame'>\n",
      "RangeIndex: 35 entries, 0 to 34\n",
      "Data columns (total 2 columns):\n",
      " #   Column  Non-Null Count  Dtype  \n",
      "---  ------  --------------  -----  \n",
      " 0   Soil1   30 non-null     float64\n",
      " 1   Soil2   35 non-null     float64\n",
      "dtypes: float64(2)\n",
      "memory usage: 688.0 bytes\n"
     ]
    }
   ],
   "source": [
    "soil.info()"
   ]
  },
  {
   "cell_type": "code",
   "execution_count": 12,
   "id": "3adcd267",
   "metadata": {
    "scrolled": true
   },
   "outputs": [
    {
     "data": {
      "text/plain": [
       "Soil1    5\n",
       "Soil2    0\n",
       "dtype: int64"
      ]
     },
     "execution_count": 12,
     "metadata": {},
     "output_type": "execute_result"
    }
   ],
   "source": [
    "soil.isnull().sum()"
   ]
  },
  {
   "cell_type": "code",
   "execution_count": 13,
   "id": "c4aae4ec",
   "metadata": {},
   "outputs": [],
   "source": [
    "soil.dropna(inplace=True)"
   ]
  },
  {
   "cell_type": "code",
   "execution_count": 14,
   "id": "d3b87c51",
   "metadata": {
    "scrolled": false
   },
   "outputs": [
    {
     "name": "stdout",
     "output_type": "stream",
     "text": [
      "Statistics=0.232, p=0.632\n",
      "The population variances of group 1 and 2 are equal.\n"
     ]
    }
   ],
   "source": [
    "stat, p = stats.levene(soil.Soil1, soil.Soil2)\n",
    "\n",
    "print('Statistics=%.3f, p=%.3f' % (stat, p))\n",
    "# interpret\n",
    "alpha = 0.01\n",
    "if p > alpha:\n",
    "\tprint('The population variances of group 1 and 2 are equal.')\n",
    "else:\n",
    "\tprint('The population variances of group 1 and 2 are not equal.')"
   ]
  },
  {
   "cell_type": "code",
   "execution_count": 15,
   "id": "e812bca6",
   "metadata": {
    "scrolled": true
   },
   "outputs": [
    {
     "data": {
      "text/plain": [
       "TtestResult(statistic=5.134893443609086, pvalue=3.4402046436336477e-06, df=58.0)"
      ]
     },
     "execution_count": 15,
     "metadata": {},
     "output_type": "execute_result"
    }
   ],
   "source": [
    "TtestResult = stats.ttest_ind(soil.Soil1, soil.Soil2, equal_var = True)\n",
    "TtestResult"
   ]
  },
  {
   "cell_type": "code",
   "execution_count": 16,
   "id": "2d8b16a8",
   "metadata": {},
   "outputs": [
    {
     "data": {
      "text/plain": [
       "True"
      ]
     },
     "execution_count": 16,
     "metadata": {},
     "output_type": "execute_result"
    }
   ],
   "source": [
    "#Reject Ho. The two population means are not equal\n",
    "TtestResult.pvalue<alpha"
   ]
  },
  {
   "cell_type": "markdown",
   "id": "f54458b9",
   "metadata": {},
   "source": [
    "**EXERCISE 5.** The following dataset is based on data provided by the World Bank (https://datacatalog.worldbank.org/dataset/education-statistics). World Bank Edstats.  2015 PISA Test Dataset\n",
    "\n",
    "* Get descriptive statistics (the central tendency, dispersion and shape of a dataset’s distribution) for each continent group (AS, EU, AF, NA, SA, OC).\n",
    "* Determine whether there is any difference (on the average) for the math scores among European (EU) and Asian (AS) countries (assume normality and equal variances). Draw side-by-side box plots.\n",
    "CHECK: statistic=0.870055317967983, pvalue=0.38826888111307345"
   ]
  },
  {
   "cell_type": "code",
   "execution_count": 17,
   "id": "8216f365",
   "metadata": {},
   "outputs": [
    {
     "data": {
      "text/html": [
       "<div>\n",
       "<style scoped>\n",
       "    .dataframe tbody tr th:only-of-type {\n",
       "        vertical-align: middle;\n",
       "    }\n",
       "\n",
       "    .dataframe tbody tr th {\n",
       "        vertical-align: top;\n",
       "    }\n",
       "\n",
       "    .dataframe thead th {\n",
       "        text-align: right;\n",
       "    }\n",
       "</style>\n",
       "<table border=\"1\" class=\"dataframe\">\n",
       "  <thead>\n",
       "    <tr style=\"text-align: right;\">\n",
       "      <th></th>\n",
       "      <th>Country Code</th>\n",
       "      <th>Continent_Code</th>\n",
       "      <th>internet_users_per_100</th>\n",
       "      <th>Math</th>\n",
       "      <th>Reading</th>\n",
       "      <th>Science</th>\n",
       "    </tr>\n",
       "  </thead>\n",
       "  <tbody>\n",
       "    <tr>\n",
       "      <th>0</th>\n",
       "      <td>ALB</td>\n",
       "      <td>EU</td>\n",
       "      <td>63.252933</td>\n",
       "      <td>413.1570</td>\n",
       "      <td>405.2588</td>\n",
       "      <td>427.2250</td>\n",
       "    </tr>\n",
       "    <tr>\n",
       "      <th>1</th>\n",
       "      <td>ARE</td>\n",
       "      <td>AS</td>\n",
       "      <td>90.500000</td>\n",
       "      <td>427.4827</td>\n",
       "      <td>433.5423</td>\n",
       "      <td>436.7311</td>\n",
       "    </tr>\n",
       "    <tr>\n",
       "      <th>2</th>\n",
       "      <td>ARG</td>\n",
       "      <td>SA</td>\n",
       "      <td>68.043064</td>\n",
       "      <td>409.0333</td>\n",
       "      <td>425.3031</td>\n",
       "      <td>432.2262</td>\n",
       "    </tr>\n",
       "    <tr>\n",
       "      <th>3</th>\n",
       "      <td>AUS</td>\n",
       "      <td>OC</td>\n",
       "      <td>84.560519</td>\n",
       "      <td>493.8962</td>\n",
       "      <td>502.9006</td>\n",
       "      <td>509.9939</td>\n",
       "    </tr>\n",
       "    <tr>\n",
       "      <th>4</th>\n",
       "      <td>AUT</td>\n",
       "      <td>EU</td>\n",
       "      <td>83.940142</td>\n",
       "      <td>496.7423</td>\n",
       "      <td>484.8656</td>\n",
       "      <td>495.0375</td>\n",
       "    </tr>\n",
       "  </tbody>\n",
       "</table>\n",
       "</div>"
      ],
      "text/plain": [
       "  Country Code Continent_Code  internet_users_per_100      Math   Reading  \\\n",
       "0          ALB             EU               63.252933  413.1570  405.2588   \n",
       "1          ARE             AS               90.500000  427.4827  433.5423   \n",
       "2          ARG             SA               68.043064  409.0333  425.3031   \n",
       "3          AUS             OC               84.560519  493.8962  502.9006   \n",
       "4          AUT             EU               83.940142  496.7423  484.8656   \n",
       "\n",
       "    Science  \n",
       "0  427.2250  \n",
       "1  436.7311  \n",
       "2  432.2262  \n",
       "3  509.9939  \n",
       "4  495.0375  "
      ]
     },
     "execution_count": 17,
     "metadata": {},
     "output_type": "execute_result"
    }
   ],
   "source": [
    "pisa = pd.read_csv('2015 PISA Test.csv')\n",
    "pisa.head()"
   ]
  },
  {
   "cell_type": "code",
   "execution_count": 18,
   "id": "a749fdb3",
   "metadata": {},
   "outputs": [
    {
     "data": {
      "text/plain": [
       "(70, 6)"
      ]
     },
     "execution_count": 18,
     "metadata": {},
     "output_type": "execute_result"
    }
   ],
   "source": [
    "pisa.shape"
   ]
  },
  {
   "cell_type": "code",
   "execution_count": 19,
   "id": "a70867a9",
   "metadata": {},
   "outputs": [],
   "source": [
    "pisa = pisa.dropna()"
   ]
  },
  {
   "cell_type": "code",
   "execution_count": 20,
   "id": "c6cf4ec1",
   "metadata": {},
   "outputs": [
    {
     "data": {
      "text/plain": [
       "(65, 6)"
      ]
     },
     "execution_count": 20,
     "metadata": {},
     "output_type": "execute_result"
    }
   ],
   "source": [
    "pisa.shape"
   ]
  },
  {
   "cell_type": "code",
   "execution_count": 21,
   "id": "ed9622e6",
   "metadata": {},
   "outputs": [
    {
     "data": {
      "text/html": [
       "<div>\n",
       "<style scoped>\n",
       "    .dataframe tbody tr th:only-of-type {\n",
       "        vertical-align: middle;\n",
       "    }\n",
       "\n",
       "    .dataframe tbody tr th {\n",
       "        vertical-align: top;\n",
       "    }\n",
       "\n",
       "    .dataframe thead th {\n",
       "        text-align: right;\n",
       "    }\n",
       "</style>\n",
       "<table border=\"1\" class=\"dataframe\">\n",
       "  <thead>\n",
       "    <tr style=\"text-align: right;\">\n",
       "      <th></th>\n",
       "      <th>internet_users_per_100</th>\n",
       "      <th>Math</th>\n",
       "      <th>Reading</th>\n",
       "      <th>Science</th>\n",
       "    </tr>\n",
       "  </thead>\n",
       "  <tbody>\n",
       "    <tr>\n",
       "      <th>count</th>\n",
       "      <td>65.000000</td>\n",
       "      <td>65.000000</td>\n",
       "      <td>65.000000</td>\n",
       "      <td>65.000000</td>\n",
       "    </tr>\n",
       "    <tr>\n",
       "      <th>mean</th>\n",
       "      <td>72.364354</td>\n",
       "      <td>463.796218</td>\n",
       "      <td>462.118551</td>\n",
       "      <td>467.535888</td>\n",
       "    </tr>\n",
       "    <tr>\n",
       "      <th>std</th>\n",
       "      <td>16.570118</td>\n",
       "      <td>51.293822</td>\n",
       "      <td>48.443166</td>\n",
       "      <td>45.762751</td>\n",
       "    </tr>\n",
       "    <tr>\n",
       "      <th>min</th>\n",
       "      <td>21.976068</td>\n",
       "      <td>359.606200</td>\n",
       "      <td>346.549000</td>\n",
       "      <td>375.745100</td>\n",
       "    </tr>\n",
       "    <tr>\n",
       "      <th>25%</th>\n",
       "      <td>63.306625</td>\n",
       "      <td>417.991900</td>\n",
       "      <td>427.141000</td>\n",
       "      <td>427.997800</td>\n",
       "    </tr>\n",
       "    <tr>\n",
       "      <th>50%</th>\n",
       "      <td>73.098700</td>\n",
       "      <td>478.644800</td>\n",
       "      <td>481.439100</td>\n",
       "      <td>475.408900</td>\n",
       "    </tr>\n",
       "    <tr>\n",
       "      <th>75%</th>\n",
       "      <td>85.052900</td>\n",
       "      <td>501.729800</td>\n",
       "      <td>499.814600</td>\n",
       "      <td>502.575100</td>\n",
       "    </tr>\n",
       "    <tr>\n",
       "      <th>max</th>\n",
       "      <td>98.200000</td>\n",
       "      <td>564.189700</td>\n",
       "      <td>535.100200</td>\n",
       "      <td>555.574700</td>\n",
       "    </tr>\n",
       "  </tbody>\n",
       "</table>\n",
       "</div>"
      ],
      "text/plain": [
       "       internet_users_per_100        Math     Reading     Science\n",
       "count               65.000000   65.000000   65.000000   65.000000\n",
       "mean                72.364354  463.796218  462.118551  467.535888\n",
       "std                 16.570118   51.293822   48.443166   45.762751\n",
       "min                 21.976068  359.606200  346.549000  375.745100\n",
       "25%                 63.306625  417.991900  427.141000  427.997800\n",
       "50%                 73.098700  478.644800  481.439100  475.408900\n",
       "75%                 85.052900  501.729800  499.814600  502.575100\n",
       "max                 98.200000  564.189700  535.100200  555.574700"
      ]
     },
     "execution_count": 21,
     "metadata": {},
     "output_type": "execute_result"
    }
   ],
   "source": [
    "pisa.describe()"
   ]
  },
  {
   "cell_type": "code",
   "execution_count": 22,
   "id": "14dfcb9b",
   "metadata": {
    "scrolled": false
   },
   "outputs": [
    {
     "data": {
      "text/html": [
       "<div>\n",
       "<style scoped>\n",
       "    .dataframe tbody tr th:only-of-type {\n",
       "        vertical-align: middle;\n",
       "    }\n",
       "\n",
       "    .dataframe tbody tr th {\n",
       "        vertical-align: top;\n",
       "    }\n",
       "\n",
       "    .dataframe thead th {\n",
       "        text-align: right;\n",
       "    }\n",
       "</style>\n",
       "<table border=\"1\" class=\"dataframe\">\n",
       "  <thead>\n",
       "    <tr style=\"text-align: right;\">\n",
       "      <th></th>\n",
       "      <th>Continent_Code</th>\n",
       "      <th>AF</th>\n",
       "      <th>AS</th>\n",
       "      <th>EU</th>\n",
       "      <th>OC</th>\n",
       "      <th>SA</th>\n",
       "    </tr>\n",
       "  </thead>\n",
       "  <tbody>\n",
       "    <tr>\n",
       "      <th rowspan=\"8\" valign=\"top\">internet_users_per_100</th>\n",
       "      <th>count</th>\n",
       "      <td>2.000000</td>\n",
       "      <td>17.000000</td>\n",
       "      <td>37.000000</td>\n",
       "      <td>2.000000</td>\n",
       "      <td>7.000000</td>\n",
       "    </tr>\n",
       "    <tr>\n",
       "      <th>mean</th>\n",
       "      <td>43.359918</td>\n",
       "      <td>68.455613</td>\n",
       "      <td>77.274888</td>\n",
       "      <td>86.391704</td>\n",
       "      <td>60.180494</td>\n",
       "    </tr>\n",
       "    <tr>\n",
       "      <th>std</th>\n",
       "      <td>7.297226</td>\n",
       "      <td>21.086060</td>\n",
       "      <td>12.425773</td>\n",
       "      <td>2.589686</td>\n",
       "      <td>9.772455</td>\n",
       "    </tr>\n",
       "    <tr>\n",
       "      <th>min</th>\n",
       "      <td>38.200000</td>\n",
       "      <td>21.976068</td>\n",
       "      <td>53.744979</td>\n",
       "      <td>84.560519</td>\n",
       "      <td>40.900000</td>\n",
       "    </tr>\n",
       "    <tr>\n",
       "      <th>25%</th>\n",
       "      <td>40.779959</td>\n",
       "      <td>50.300000</td>\n",
       "      <td>68.632900</td>\n",
       "      <td>85.476112</td>\n",
       "      <td>57.116462</td>\n",
       "    </tr>\n",
       "    <tr>\n",
       "      <th>50%</th>\n",
       "      <td>43.359918</td>\n",
       "      <td>74.000000</td>\n",
       "      <td>76.184000</td>\n",
       "      <td>86.391704</td>\n",
       "      <td>64.289000</td>\n",
       "    </tr>\n",
       "    <tr>\n",
       "      <th>75%</th>\n",
       "      <td>45.939877</td>\n",
       "      <td>84.948353</td>\n",
       "      <td>87.479056</td>\n",
       "      <td>87.307296</td>\n",
       "      <td>66.321532</td>\n",
       "    </tr>\n",
       "    <tr>\n",
       "      <th>max</th>\n",
       "      <td>48.519836</td>\n",
       "      <td>92.884826</td>\n",
       "      <td>98.200000</td>\n",
       "      <td>88.222889</td>\n",
       "      <td>69.198471</td>\n",
       "    </tr>\n",
       "    <tr>\n",
       "      <th rowspan=\"8\" valign=\"top\">Math</th>\n",
       "      <th>count</th>\n",
       "      <td>2.000000</td>\n",
       "      <td>17.000000</td>\n",
       "      <td>37.000000</td>\n",
       "      <td>2.000000</td>\n",
       "      <td>7.000000</td>\n",
       "    </tr>\n",
       "    <tr>\n",
       "      <th>mean</th>\n",
       "      <td>363.212100</td>\n",
       "      <td>466.216647</td>\n",
       "      <td>477.981449</td>\n",
       "      <td>494.559750</td>\n",
       "      <td>402.887700</td>\n",
       "    </tr>\n",
       "    <tr>\n",
       "      <th>std</th>\n",
       "      <td>5.099513</td>\n",
       "      <td>64.356490</td>\n",
       "      <td>35.150403</td>\n",
       "      <td>0.938401</td>\n",
       "      <td>18.128894</td>\n",
       "    </tr>\n",
       "    <tr>\n",
       "      <th>min</th>\n",
       "      <td>359.606200</td>\n",
       "      <td>380.259000</td>\n",
       "      <td>371.311400</td>\n",
       "      <td>493.896200</td>\n",
       "      <td>377.069500</td>\n",
       "    </tr>\n",
       "    <tr>\n",
       "      <th>25%</th>\n",
       "      <td>361.409150</td>\n",
       "      <td>403.833200</td>\n",
       "      <td>464.040100</td>\n",
       "      <td>494.227975</td>\n",
       "      <td>388.102200</td>\n",
       "    </tr>\n",
       "    <tr>\n",
       "      <th>50%</th>\n",
       "      <td>363.212100</td>\n",
       "      <td>459.816000</td>\n",
       "      <td>489.728700</td>\n",
       "      <td>494.559750</td>\n",
       "      <td>409.033300</td>\n",
       "    </tr>\n",
       "    <tr>\n",
       "      <th>75%</th>\n",
       "      <td>365.015050</td>\n",
       "      <td>531.296100</td>\n",
       "      <td>503.722000</td>\n",
       "      <td>494.891525</td>\n",
       "      <td>417.617650</td>\n",
       "    </tr>\n",
       "    <tr>\n",
       "      <th>max</th>\n",
       "      <td>366.818000</td>\n",
       "      <td>564.189700</td>\n",
       "      <td>521.250600</td>\n",
       "      <td>495.223300</td>\n",
       "      <td>422.671400</td>\n",
       "    </tr>\n",
       "    <tr>\n",
       "      <th rowspan=\"8\" valign=\"top\">Reading</th>\n",
       "      <th>count</th>\n",
       "      <td>2.000000</td>\n",
       "      <td>17.000000</td>\n",
       "      <td>37.000000</td>\n",
       "      <td>2.000000</td>\n",
       "      <td>7.000000</td>\n",
       "    </tr>\n",
       "    <tr>\n",
       "      <th>mean</th>\n",
       "      <td>355.457400</td>\n",
       "      <td>454.059682</td>\n",
       "      <td>476.164608</td>\n",
       "      <td>506.085650</td>\n",
       "      <td>425.359229</td>\n",
       "    </tr>\n",
       "    <tr>\n",
       "      <th>std</th>\n",
       "      <td>7.916909</td>\n",
       "      <td>57.048962</td>\n",
       "      <td>37.720545</td>\n",
       "      <td>4.504341</td>\n",
       "      <td>19.709688</td>\n",
       "    </tr>\n",
       "    <tr>\n",
       "      <th>min</th>\n",
       "      <td>349.859300</td>\n",
       "      <td>346.549000</td>\n",
       "      <td>351.741500</td>\n",
       "      <td>502.900600</td>\n",
       "      <td>397.541400</td>\n",
       "    </tr>\n",
       "    <tr>\n",
       "      <th>25%</th>\n",
       "      <td>352.658350</td>\n",
       "      <td>408.102200</td>\n",
       "      <td>452.514300</td>\n",
       "      <td>504.493125</td>\n",
       "      <td>416.126900</td>\n",
       "    </tr>\n",
       "    <tr>\n",
       "      <th>50%</th>\n",
       "      <td>355.457400</td>\n",
       "      <td>433.542300</td>\n",
       "      <td>487.250100</td>\n",
       "      <td>506.085650</td>\n",
       "      <td>425.303100</td>\n",
       "    </tr>\n",
       "    <tr>\n",
       "      <th>75%</th>\n",
       "      <td>358.256450</td>\n",
       "      <td>508.690500</td>\n",
       "      <td>499.814600</td>\n",
       "      <td>507.678175</td>\n",
       "      <td>431.922700</td>\n",
       "    </tr>\n",
       "    <tr>\n",
       "      <th>max</th>\n",
       "      <td>361.055500</td>\n",
       "      <td>535.100200</td>\n",
       "      <td>526.424700</td>\n",
       "      <td>509.270700</td>\n",
       "      <td>458.570900</td>\n",
       "    </tr>\n",
       "    <tr>\n",
       "      <th rowspan=\"8\" valign=\"top\">Science</th>\n",
       "      <th>count</th>\n",
       "      <td>2.000000</td>\n",
       "      <td>17.000000</td>\n",
       "      <td>37.000000</td>\n",
       "      <td>2.000000</td>\n",
       "      <td>7.000000</td>\n",
       "    </tr>\n",
       "    <tr>\n",
       "      <th>mean</th>\n",
       "      <td>381.074250</td>\n",
       "      <td>467.945847</td>\n",
       "      <td>478.299381</td>\n",
       "      <td>511.648700</td>\n",
       "      <td>421.747186</td>\n",
       "    </tr>\n",
       "    <tr>\n",
       "      <th>std</th>\n",
       "      <td>7.536556</td>\n",
       "      <td>56.671371</td>\n",
       "      <td>34.450616</td>\n",
       "      <td>2.340241</td>\n",
       "      <td>18.470319</td>\n",
       "    </tr>\n",
       "    <tr>\n",
       "      <th>min</th>\n",
       "      <td>375.745100</td>\n",
       "      <td>386.485400</td>\n",
       "      <td>383.682400</td>\n",
       "      <td>509.993900</td>\n",
       "      <td>396.683600</td>\n",
       "    </tr>\n",
       "    <tr>\n",
       "      <th>25%</th>\n",
       "      <td>378.409675</td>\n",
       "      <td>417.611200</td>\n",
       "      <td>460.774900</td>\n",
       "      <td>510.821300</td>\n",
       "      <td>408.205450</td>\n",
       "    </tr>\n",
       "    <tr>\n",
       "      <th>50%</th>\n",
       "      <td>381.074250</td>\n",
       "      <td>456.483600</td>\n",
       "      <td>490.225000</td>\n",
       "      <td>511.648700</td>\n",
       "      <td>424.590500</td>\n",
       "    </tr>\n",
       "    <tr>\n",
       "      <th>75%</th>\n",
       "      <td>383.738825</td>\n",
       "      <td>523.277400</td>\n",
       "      <td>501.936900</td>\n",
       "      <td>512.476100</td>\n",
       "      <td>433.794600</td>\n",
       "    </tr>\n",
       "    <tr>\n",
       "      <th>max</th>\n",
       "      <td>386.403400</td>\n",
       "      <td>555.574700</td>\n",
       "      <td>534.193700</td>\n",
       "      <td>513.303500</td>\n",
       "      <td>446.956100</td>\n",
       "    </tr>\n",
       "  </tbody>\n",
       "</table>\n",
       "</div>"
      ],
      "text/plain": [
       "Continent_Code                        AF          AS          EU          OC  \\\n",
       "internet_users_per_100 count    2.000000   17.000000   37.000000    2.000000   \n",
       "                       mean    43.359918   68.455613   77.274888   86.391704   \n",
       "                       std      7.297226   21.086060   12.425773    2.589686   \n",
       "                       min     38.200000   21.976068   53.744979   84.560519   \n",
       "                       25%     40.779959   50.300000   68.632900   85.476112   \n",
       "                       50%     43.359918   74.000000   76.184000   86.391704   \n",
       "                       75%     45.939877   84.948353   87.479056   87.307296   \n",
       "                       max     48.519836   92.884826   98.200000   88.222889   \n",
       "Math                   count    2.000000   17.000000   37.000000    2.000000   \n",
       "                       mean   363.212100  466.216647  477.981449  494.559750   \n",
       "                       std      5.099513   64.356490   35.150403    0.938401   \n",
       "                       min    359.606200  380.259000  371.311400  493.896200   \n",
       "                       25%    361.409150  403.833200  464.040100  494.227975   \n",
       "                       50%    363.212100  459.816000  489.728700  494.559750   \n",
       "                       75%    365.015050  531.296100  503.722000  494.891525   \n",
       "                       max    366.818000  564.189700  521.250600  495.223300   \n",
       "Reading                count    2.000000   17.000000   37.000000    2.000000   \n",
       "                       mean   355.457400  454.059682  476.164608  506.085650   \n",
       "                       std      7.916909   57.048962   37.720545    4.504341   \n",
       "                       min    349.859300  346.549000  351.741500  502.900600   \n",
       "                       25%    352.658350  408.102200  452.514300  504.493125   \n",
       "                       50%    355.457400  433.542300  487.250100  506.085650   \n",
       "                       75%    358.256450  508.690500  499.814600  507.678175   \n",
       "                       max    361.055500  535.100200  526.424700  509.270700   \n",
       "Science                count    2.000000   17.000000   37.000000    2.000000   \n",
       "                       mean   381.074250  467.945847  478.299381  511.648700   \n",
       "                       std      7.536556   56.671371   34.450616    2.340241   \n",
       "                       min    375.745100  386.485400  383.682400  509.993900   \n",
       "                       25%    378.409675  417.611200  460.774900  510.821300   \n",
       "                       50%    381.074250  456.483600  490.225000  511.648700   \n",
       "                       75%    383.738825  523.277400  501.936900  512.476100   \n",
       "                       max    386.403400  555.574700  534.193700  513.303500   \n",
       "\n",
       "Continent_Code                        SA  \n",
       "internet_users_per_100 count    7.000000  \n",
       "                       mean    60.180494  \n",
       "                       std      9.772455  \n",
       "                       min     40.900000  \n",
       "                       25%     57.116462  \n",
       "                       50%     64.289000  \n",
       "                       75%     66.321532  \n",
       "                       max     69.198471  \n",
       "Math                   count    7.000000  \n",
       "                       mean   402.887700  \n",
       "                       std     18.128894  \n",
       "                       min    377.069500  \n",
       "                       25%    388.102200  \n",
       "                       50%    409.033300  \n",
       "                       75%    417.617650  \n",
       "                       max    422.671400  \n",
       "Reading                count    7.000000  \n",
       "                       mean   425.359229  \n",
       "                       std     19.709688  \n",
       "                       min    397.541400  \n",
       "                       25%    416.126900  \n",
       "                       50%    425.303100  \n",
       "                       75%    431.922700  \n",
       "                       max    458.570900  \n",
       "Science                count    7.000000  \n",
       "                       mean   421.747186  \n",
       "                       std     18.470319  \n",
       "                       min    396.683600  \n",
       "                       25%    408.205450  \n",
       "                       50%    424.590500  \n",
       "                       75%    433.794600  \n",
       "                       max    446.956100  "
      ]
     },
     "execution_count": 22,
     "metadata": {},
     "output_type": "execute_result"
    }
   ],
   "source": [
    "pisa.groupby('Continent_Code').describe().T"
   ]
  },
  {
   "cell_type": "code",
   "execution_count": 23,
   "id": "7847f6b3",
   "metadata": {},
   "outputs": [],
   "source": [
    "as_math = pisa.groupby('Continent_Code').describe().T.loc['Math','AS']\n",
    "eu_math = pisa.groupby('Continent_Code').describe().T.loc['Math','EU']"
   ]
  },
  {
   "cell_type": "code",
   "execution_count": 24,
   "id": "5e0a475f",
   "metadata": {},
   "outputs": [
    {
     "data": {
      "text/plain": [
       "count     37.000000\n",
       "mean     477.981449\n",
       "std       35.150403\n",
       "min      371.311400\n",
       "25%      464.040100\n",
       "50%      489.728700\n",
       "75%      503.722000\n",
       "max      521.250600\n",
       "Name: EU, dtype: float64"
      ]
     },
     "execution_count": 24,
     "metadata": {},
     "output_type": "execute_result"
    }
   ],
   "source": [
    "eu_math"
   ]
  },
  {
   "cell_type": "code",
   "execution_count": 25,
   "id": "d10ce9eb",
   "metadata": {
    "scrolled": false
   },
   "outputs": [
    {
     "data": {
      "image/png": "[encoded data removed]",
      "text/plain": [
       "<Figure size 1200x500 with 2 Axes>"
      ]
     },
     "metadata": {},
     "output_type": "display_data"
    }
   ],
   "source": [
    "fig, ax = plt.subplots(1,2, figsize=(12,5))\n",
    "sns.boxplot(x=as_math, ax=ax[0])\n",
    "ax[0].set_title('Math scores among Asian (AS)')\n",
    "sns.boxplot(x=eu_math, ax=ax[1]);\n",
    "ax[1].set_title('Math scores among European (EU)');"
   ]
  },
  {
   "cell_type": "code",
   "execution_count": 26,
   "id": "27506377",
   "metadata": {},
   "outputs": [],
   "source": [
    "# H0 =  there is no difference (on the average) for the math scores among European (EU) and Asian (AS) countries\n",
    "# H1 =  there is  difference (on the average) for the math scores among European (EU) and Asian (AS) countries"
   ]
  },
  {
   "cell_type": "code",
   "execution_count": 27,
   "id": "e759ef35",
   "metadata": {
    "scrolled": true
   },
   "outputs": [
    {
     "name": "stdout",
     "output_type": "stream",
     "text": [
      "Statistics=0.010520, p=0.919763\n",
      "The population variances of group 1 and 2 are equal.\n"
     ]
    }
   ],
   "source": [
    "stat, p = stats.levene(as_math, eu_math)\n",
    "\n",
    "print('Statistics=%f, p=%f' % (stat, p))\n",
    "# interpret\n",
    "alpha = 0.01\n",
    "if p > alpha:\n",
    "\tprint('The population variances of group 1 and 2 are equal.')\n",
    "else:\n",
    "\tprint('The population variances of group 1 and 2 are not equal.')"
   ]
  },
  {
   "cell_type": "code",
   "execution_count": 28,
   "id": "bf9b0206",
   "metadata": {},
   "outputs": [
    {
     "data": {
      "text/plain": [
       "TtestResult(statistic=-0.015990669524584916, pvalue=0.9874674866535558, df=14.0)"
      ]
     },
     "execution_count": 28,
     "metadata": {},
     "output_type": "execute_result"
    }
   ],
   "source": [
    "TtestResult = stats.ttest_ind(as_math, eu_math, equal_var = True)\n",
    "TtestResult"
   ]
  },
  {
   "cell_type": "code",
   "execution_count": 29,
   "id": "188260f9",
   "metadata": {},
   "outputs": [
    {
     "data": {
      "text/plain": [
       "False"
      ]
     },
     "execution_count": 29,
     "metadata": {},
     "output_type": "execute_result"
    }
   ],
   "source": [
    "#Fail to reject Ho. The two population means are equal\n",
    "TtestResult.pvalue<alpha"
   ]
  }
 ],
 "metadata": {
  "kernelspec": {
   "display_name": "Python 3 (ipykernel)",
   "language": "python",
   "name": "python3"
  },
  "language_info": {
   "codemirror_mode": {
    "name": "ipython",
    "version": 3
   },
   "file_extension": ".py",
   "mimetype": "text/x-python",
   "name": "python",
   "nbconvert_exporter": "python",
   "pygments_lexer": "ipython3",
   "version": "3.10.12"
  },
  "toc": {
   "base_numbering": 1,
   "nav_menu": {},
   "number_sections": true,
   "sideBar": true,
   "skip_h1_title": false,
   "title_cell": "Table of Contents",
   "title_sidebar": "Contents",
   "toc_cell": false,
   "toc_position": {},
   "toc_section_display": true,
   "toc_window_display": false
  }
 },
 "nbformat": 4,
 "nbformat_minor": 5
}
